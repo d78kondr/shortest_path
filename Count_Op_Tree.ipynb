{
 "cells": [
  {
   "cell_type": "code",
   "execution_count": 1,
   "metadata": {},
   "outputs": [],
   "source": [
    "class TreeNode(object):\n",
    "    def __init__(self, data, cnt, children=[]):\n",
    "        self.data = data\n",
    "        self.cnt = cnt\n",
    "        self.children = list(children)\n",
    "\n",
    "    def add(self, child):\n",
    "        self.children.append(child)"
   ]
  },
  {
   "cell_type": "code",
   "execution_count": 19,
   "metadata": {},
   "outputs": [],
   "source": [
    "data = [1] # data values in all nodes\n",
    "root = TreeNode(data = 1, cnt = 0)\n",
    "N = 15"
   ]
  },
  {
   "cell_type": "code",
   "execution_count": 20,
   "metadata": {},
   "outputs": [],
   "source": [
    "def add_to_node(node):\n",
    "    if node.data == N:\n",
    "        print(\"node data: \", node.data, \" node cnt: \", node.cnt)\n",
    "    new_data_1 = node.data + 1\n",
    "    new_data_2 = node.data * 2\n",
    "    if new_data_1 not in data and new_data_1 <= N:\n",
    "        data.append(new_data_1)\n",
    "        new_node_1 = TreeNode(data=new_data_1, cnt = node.cnt + 1)\n",
    "        node.add(new_node_1)\n",
    "    if new_data_2 not in data and new_data_2 <= N:\n",
    "        data.append(new_data_2)\n",
    "        new_node_2 = TreeNode(data=new_data_2, cnt = node.cnt + 1)\n",
    "        node.add(new_node_2)\n",
    "    for child in node.children:\n",
    "        add_to_node(child)"
   ]
  },
  {
   "cell_type": "code",
   "execution_count": 21,
   "metadata": {},
   "outputs": [
    {
     "name": "stdout",
     "output_type": "stream",
     "text": [
      "node data:  15  node cnt:  6\n"
     ]
    }
   ],
   "source": [
    "add_to_node(root)"
   ]
  },
  {
   "cell_type": "code",
   "execution_count": 22,
   "metadata": {},
   "outputs": [],
   "source": [
    "def print_tree(node):\n",
    "    print(\"*** data: \", node.data)\n",
    "    print(\"cnt: \", node.cnt)\n",
    "    for child in node.children:\n",
    "        print('data: ', node.data, \" child: \", child.data)\n",
    "    for child in node.children:\n",
    "        print_tree(child)"
   ]
  },
  {
   "cell_type": "code",
   "execution_count": 23,
   "metadata": {},
   "outputs": [
    {
     "name": "stdout",
     "output_type": "stream",
     "text": [
      "*** data:  1\n",
      "cnt:  0\n",
      "data:  1  child:  2\n",
      "*** data:  2\n",
      "cnt:  1\n",
      "data:  2  child:  3\n",
      "data:  2  child:  4\n",
      "*** data:  3\n",
      "cnt:  2\n",
      "data:  3  child:  6\n",
      "*** data:  6\n",
      "cnt:  3\n",
      "data:  6  child:  7\n",
      "data:  6  child:  12\n",
      "*** data:  7\n",
      "cnt:  4\n",
      "data:  7  child:  8\n",
      "data:  7  child:  14\n",
      "*** data:  8\n",
      "cnt:  5\n",
      "data:  8  child:  9\n",
      "*** data:  9\n",
      "cnt:  6\n",
      "data:  9  child:  10\n",
      "*** data:  10\n",
      "cnt:  7\n",
      "data:  10  child:  11\n",
      "*** data:  11\n",
      "cnt:  8\n",
      "*** data:  14\n",
      "cnt:  5\n",
      "data:  14  child:  15\n",
      "*** data:  15\n",
      "cnt:  6\n",
      "*** data:  12\n",
      "cnt:  4\n",
      "data:  12  child:  13\n",
      "*** data:  13\n",
      "cnt:  5\n",
      "*** data:  4\n",
      "cnt:  2\n",
      "data:  4  child:  5\n",
      "*** data:  5\n",
      "cnt:  3\n"
     ]
    }
   ],
   "source": [
    "print_tree(root)"
   ]
  },
  {
   "cell_type": "code",
   "execution_count": null,
   "metadata": {},
   "outputs": [],
   "source": []
  }
 ],
 "metadata": {
  "kernelspec": {
   "display_name": "Python 3",
   "language": "python",
   "name": "python3"
  },
  "language_info": {
   "codemirror_mode": {
    "name": "ipython",
    "version": 3
   },
   "file_extension": ".py",
   "mimetype": "text/x-python",
   "name": "python",
   "nbconvert_exporter": "python",
   "pygments_lexer": "ipython3",
   "version": "3.6.10"
  }
 },
 "nbformat": 4,
 "nbformat_minor": 2
}
