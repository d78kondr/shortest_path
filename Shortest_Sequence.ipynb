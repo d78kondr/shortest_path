{
 "cells": [
  {
   "cell_type": "raw",
   "metadata": {},
   "source": [
    "Find the shortest sequence (last * 2 or last + 1) that starts with 1 and ends with N. \n",
    "The number of multiplications may not exceed K."
   ]
  },
  {
   "cell_type": "code",
   "execution_count": 75,
   "metadata": {},
   "outputs": [],
   "source": [
    "def solution(N, K):\n",
    "    \"\"\"N - last number in sequence\n",
    "       K - max number of multiplications\n",
    "    \"\"\"\n",
    "    go = True\n",
    "    cnt = 0\n",
    "    i = K\n",
    "    r = N\n",
    "    while go:\n",
    "        prev = r\n",
    "        r = r // 2\n",
    "        cnt += 1+prev- r*2\n",
    "        i -= 1\n",
    "        print('prev: ', prev, ' r: ', r, ' cnt: ', cnt)\n",
    "        if r == 1:    \n",
    "            go = False\n",
    "        if i == 0 and r > 1:\n",
    "            go = False\n",
    "            cnt += r-1\n",
    "            \n",
    "    return cnt"
   ]
  },
  {
   "cell_type": "code",
   "execution_count": 81,
   "metadata": {},
   "outputs": [
    {
     "name": "stdout",
     "output_type": "stream",
     "text": [
      "prev:  15  r:  7  cnt:  2\n",
      "prev:  7  r:  3  cnt:  4\n"
     ]
    },
    {
     "data": {
      "text/plain": [
       "6"
      ]
     },
     "execution_count": 81,
     "metadata": {},
     "output_type": "execute_result"
    }
   ],
   "source": [
    "solution(15,2)"
   ]
  },
  {
   "cell_type": "code",
   "execution_count": null,
   "metadata": {},
   "outputs": [],
   "source": []
  }
 ],
 "metadata": {
  "kernelspec": {
   "display_name": "Python 3",
   "language": "python",
   "name": "python3"
  },
  "language_info": {
   "codemirror_mode": {
    "name": "ipython",
    "version": 3
   },
   "file_extension": ".py",
   "mimetype": "text/x-python",
   "name": "python",
   "nbconvert_exporter": "python",
   "pygments_lexer": "ipython3",
   "version": "3.6.10"
  }
 },
 "nbformat": 4,
 "nbformat_minor": 2
}
